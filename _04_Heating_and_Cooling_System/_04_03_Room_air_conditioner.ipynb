{
 "cells": [
  {
   "cell_type": "markdown",
   "metadata": {},
   "source": [
    "# Chapter IV-III Heating and Cooling System - Room Air Conditioner / 暖冷房設備 - ルームエアコンディショナー"
   ]
  },
  {
   "cell_type": "markdown",
   "metadata": {},
   "source": [
    "## Maximum Heating Power / 最大暖房出力"
   ]
  },
  {
   "cell_type": "markdown",
   "metadata": {},
   "source": [
    "The hourly maximum heating power $Q_{max,H}$ is calculated by the equation below."
   ]
  },
  {
   "cell_type": "markdown",
   "metadata": {},
   "source": [
    "$$\\large\n",
    "Q_{max,H} = Qr_{max,H} \\times q_{rtd,H} \\times C_{af,H} \\times C_{df,H} \\times 3600 \\times 10^{-6}\n",
    "$$"
   ]
  },
  {
   "cell_type": "markdown",
   "metadata": {},
   "source": [
    "Where  \n",
    "$Q_{max,H}$ is the hourly maximum heating power. / 24時間当たりの最大暖房出力(MJ/h)  \n",
    "$Qr_{max,H}$ is the maximum heating power ratio. / 最大暖房出力比  \n",
    "$q_{rtd,H}$ is the rated heating capacity. / 定格暖房能力(W)  \n",
    "$C_{af,H}$ is the heating power correction coefficient for air volume of blowout of indoor unit. / 室内機吹き出し風量に関する暖房出力補正係数  \n",
    "$C_{df,H}$ is the heating power correction coefficient for defrost. / デフロストに関する暖房出力補正係数  "
   ]
  },
  {
   "cell_type": "markdown",
   "metadata": {},
   "source": [
    "The maximum heating power ratio $Qr_{max,H}$ is calculated by the equation below."
   ]
  },
  {
   "cell_type": "markdown",
   "metadata": {},
   "source": [
    "$$\\large\n",
    "Qr_{max,H} = a_2 \\times (\\theta_{ex} - 7)^2 + a_1 \\times (\\theta_{ex} - 7) + a_0\n",
    "$$"
   ]
  },
  {
   "cell_type": "markdown",
   "metadata": {},
   "source": [
    "Where  \n",
    "$\\theta_{ex}$ is the outside air temperature. / 外気温度(℃)  "
   ]
  },
  {
   "cell_type": "markdown",
   "metadata": {},
   "source": [
    "The coefficient $a_2$, $a_1$ and $a_0$ are calculated by the equations below.  \n",
    "However, when $q_{rtd,C}$ exceeds 5600(W) in the equations (2) and (3), we calculate assuming $q_{rtd,C}$ is equal to 5600(W)."
   ]
  },
  {
   "cell_type": "markdown",
   "metadata": {},
   "source": [
    "$$\n",
    "\\Biggl(\\begin{matrix}\n",
    "    a_2\\\\\n",
    "    a_1\\\\\n",
    "    a_0\\\\\n",
    "    \\end{matrix}\n",
    "\\Biggr) = \n",
    "\\Biggl(\\begin{matrix}\n",
    "    b_2\\\\ \n",
    "    b_1\\\\ \n",
    "    b_0\\\\ \n",
    "    \\end{matrix}\n",
    "\\Biggr) \\times qr_{max,H} + \n",
    "\\Biggl(\\begin{matrix}\n",
    "    c_2\\\\ \n",
    "    c_1\\\\ \n",
    "    c_0\\\\ \n",
    "    \\end{matrix}\n",
    "\\Biggr)\n",
    "\\tag{1}\n",
    "$$"
   ]
  },
  {
   "cell_type": "markdown",
   "metadata": {},
   "source": [
    "$$\n",
    "\\Biggl(\\begin{matrix}\n",
    "    b_2\\\\ \n",
    "    b_1\\\\ \n",
    "    b_0\\\\ \n",
    "    \\end{matrix}\n",
    "\\Biggr) = \n",
    "\\Biggl(\\begin{matrix}\n",
    "    0.000181\\\\ \n",
    "    0.002322\\\\ \n",
    "    0.003556\\\\ \n",
    "    \\end{matrix}\n",
    "\\Biggr) \\times q_{rtd,C} \\times 10^{-3}  + \n",
    "\\Biggl(\\begin{matrix}\n",
    "    -0.000184\\\\ \n",
    "    0.013904\\\\ \n",
    "    0.993431\\\\ \n",
    "    \\end{matrix}\n",
    "\\Biggr)\n",
    "\\tag{2}\n",
    "$$"
   ]
  },
  {
   "cell_type": "markdown",
   "metadata": {},
   "source": [
    "$$\n",
    "\\Biggl(\\begin{matrix}\n",
    "    c_2\\\\ \n",
    "    c_1\\\\ \n",
    "    c_0\\\\ \n",
    "    \\end{matrix}\n",
    "\\Biggr) = \n",
    "\\Biggl(\\begin{matrix}\n",
    "    -0.000173\\\\ \n",
    "    -0.003980\\\\ \n",
    "    -0.002870\\\\ \n",
    "    \\end{matrix}\n",
    "\\Biggr) \\times q_{rtd,C} \\times 10^{-3}  + \n",
    "\\Biggl(\\begin{matrix}\n",
    "    0.000367\\\\ \n",
    "    0.003983\\\\ \n",
    "    0.006376\\\\ \n",
    "    \\end{matrix}\n",
    "\\Biggr)\n",
    "\\tag{3}\n",
    "$$"
   ]
  },
  {
   "cell_type": "markdown",
   "metadata": {},
   "source": [
    "Where  \n",
    "$qr_{max,H}$ is the maximum heating capacity ratio. / 最大暖房能力比  \n",
    "$q_{rtd,C}$ is the rated cooling capacity. / 定格冷房能力(W)  "
   ]
  },
  {
   "cell_type": "markdown",
   "metadata": {},
   "source": [
    "The rated cooling capacity $q_{rtd,C}$ is in accordance with Appendix A."
   ]
  },
  {
   "cell_type": "markdown",
   "metadata": {},
   "source": [
    "The maximum heating capacity ratio $qr_{max,H}$ is calculated by the equation below."
   ]
  },
  {
   "cell_type": "markdown",
   "metadata": {},
   "source": [
    "$$\\large\n",
    "qr_{max,H} = \\frac{q_{max,H}}{q_{rtd,H}}\n",
    "$$"
   ]
  },
  {
   "cell_type": "markdown",
   "metadata": {},
   "source": [
    "Where  \n",
    "$q_{max,H}$ is the maximum heating capacity. / 最大暖房能力(W)  \n",
    "$q_{rtd,H}$ is the rated heating capacity. / 定格暖房能力(W)  "
   ]
  },
  {
   "cell_type": "markdown",
   "metadata": {},
   "source": [
    "The maximum heating capacity $q_{max,H}$ and the rated heating capacity $q_{rtd,H}$ are calculated from the floor area $A_{HCZ}$ of the heating and cooling section in which the room air conditioner is installed, and shall be in accordance with Appendix A.  \n",
    "The capacity correction coefficient $C_{af,H}$ at heating for air volume of blowout of indoor unit is set to 0.8.  \n",
    "The heating power correction coefficient $C_{df,H}$ for defrost is assumed to be defrosted when the outside air temperature is less than 5℃ and the relative humidity is 80% or more, the value in that case is set to 0.77, and in other conditions, it is set to 1.0."
   ]
  },
  {
   "cell_type": "markdown",
   "metadata": {},
   "source": [
    "## Heating Energy Consumption / 暖房エネルギー消費量"
   ]
  },
  {
   "cell_type": "markdown",
   "metadata": {},
   "source": [
    "### 1. Power / 消費電力量"
   ]
  },
  {
   "cell_type": "markdown",
   "metadata": {},
   "source": [
    "The hourly electric power $E_{E,H}$ is calculated by the equation below.  \n",
    "However, when the correction processing heating load $Q'_{T,H}$ is 0, $E_{E,H}$ = 0."
   ]
  },
  {
   "cell_type": "markdown",
   "metadata": {},
   "source": [
    "$$\\large\n",
    "E_{E,H} = f_{H,\\theta} \\Biggl( \\frac{Q'_{T,H}}{q_{max,H} \\times 3600 \\times 10^{-6}} \\Biggr) \\div \n",
    "f_{H,7} \\Biggl( \\frac{1}{qr_{max,H}} \\Biggr) \\times \\frac{q_{rtd,H}}{e_{rtd,H}} \\times 10^{-3}\n",
    "\\tag{1-1}\n",
    "$$"
   ]
  },
  {
   "cell_type": "markdown",
   "metadata": {},
   "source": [
    "Where  \n",
    "$E_{E,H}$ is the hourly electric power. / 1時間当たりの消費電力量(kWh/h)  \n",
    "$f_{H,\\theta}$ is the reference input / output function. / 基準入出力関数  \n",
    "$Q'_{T,H}$ is the correction processing heating load. / 補正処理暖房負荷(MJ/h)    \n",
    "$q_{max,H}$ is the maximum heating capacity. / 最大暖房能力(W)  \n",
    "$qr_{max,H}$ is the maximum heating capacity ratio. / 最大暖房能力比  \n",
    "$q_{rtd,H}$ is the rated heating capacity. / 定格暖房能力(W)  \n",
    "$e_{rtd,H}$ is the rated heating energy consumption efficiency. / 定格暖房エネルギー消費効率  "
   ]
  },
  {
   "cell_type": "markdown",
   "metadata": {},
   "source": [
    "The reference i/o function $f_{H,\\theta}$ is calculated by the equation below."
   ]
  },
  {
   "cell_type": "markdown",
   "metadata": {},
   "source": [
    "$$\\large\n",
    "f_{H,\\theta}(x) = a_{4}x^{4} + a_{3}x^{3} + a_{2}x^{2} + a_{1}x + a_{0}\n",
    "\\tag{1-2}\n",
    "$$"
   ]
  },
  {
   "cell_type": "markdown",
   "metadata": {},
   "source": [
    "The coefficients $a_0$~$a_4$ are calculated by the equation below.  "
   ]
  },
  {
   "cell_type": "markdown",
   "metadata": {},
   "source": [
    "\\begin{equation*}\n",
    "\\left(\\begin{matrix}\n",
    "    a_4\\\\\n",
    "    a_3\\\\\n",
    "    a_2\\\\\n",
    "    a_1\\\\\n",
    "    a_0\\\\\n",
    "    \\end{matrix}\n",
    "\\right) = \n",
    "\\left(\\begin{matrix}\n",
    "    p_{42} & p_{41} & p_{40}\\\\\n",
    "    p_{32} & p_{31} & p_{30}\\\\\n",
    "    p_{22} & p_{21} & p_{20}\\\\\n",
    "    p_{12} & p_{11} & p_{10}\\\\\n",
    "    p_{02} & p_{01} & p_{00}\\\\\n",
    "    \\end{matrix}\n",
    "\\right)\n",
    "\\left(\\begin{matrix}\n",
    "    \\theta_{ex}^2\\\\ \n",
    "    \\theta_{ex}\\\\ \n",
    "    1\\\\ \n",
    "    \\end{matrix}\n",
    "\\right)\n",
    "\\tag{1-3}\n",
    "\\end{equation*}"
   ]
  },
  {
   "cell_type": "markdown",
   "metadata": {},
   "source": [
    "For a room air conditioner that is not with variable capacity compressor, the coefficient $p_{i}$ is calculated by the equation below and the coefficients $s_{i}$ and $t_{i}$ are represented by Table 3.  \n",
    "However, when $q_{rtd,C}$ exceeds 5600 (W) in the equation below, we calculate assuming $q_{rtd,C}$ is equal to 5600 (W)."
   ]
  },
  {
   "cell_type": "markdown",
   "metadata": {},
   "source": [
    "\\begin{equation*}\n",
    "\\large\n",
    "p_{i} = s_{i} \\times q_{rtd,C} \\times 10^{-3} + t_{i}\n",
    "\\tag{1-4}\n",
    "\\end{equation*}"
   ]
  },
  {
   "cell_type": "markdown",
   "metadata": {},
   "source": [
    "Where  \n",
    "$q_{rtd,C}$ is the rated cooling capacity. / 定格冷房能力(W)  "
   ]
  },
  {
   "cell_type": "markdown",
   "metadata": {},
   "source": [
    "$i$ represents subscripts 00, 01, 02, 10 ... 42 in the equation (1-3)."
   ]
  },
  {
   "cell_type": "markdown",
   "metadata": {},
   "source": [
    "<center>**Table 3. Coefficient $s_{i}$ and $t_{i}$**</center>\n",
    "\n",
    "|Coefficient|Value|Coefficient|Value|Coefficient|Value|Coefficient|Value|Coefficient|Value|Coefficient|Value|\n",
    "|-|-|-|-|-|-|-|-|-|-|-|-|\n",
    "|$S_{42}$|-0.00236|$t_{42}$|0.01324|$S_{41}$|0.08418|$t_{41}$|-0.47143|$S_{40}$|-1.16944|$t_{40}$|6.54886|\n",
    "|$S_{32}$|0.00427|$t_{32}$|-0.02392|$S_{31}$|-0.19226|$t_{31}$|0.94213|$S_{30}$|2.58632|$t_{30}$|-12.85618|\n",
    "|$S_{22}$|-0.00275|$t_{22}$|0.01542|$S_{21}$|0.14947|$t_{21}$|-0.68303|$S_{20}$|-2.03594|$t_{20}$|10.60561|\n",
    "|$S_{12}$|0.00063|$t_{12}$|-0.00351|$S_{11}$|-0.02865|$t_{11}$|0.10522|$S_{10}$|0.37336|$t_{10}$|-1.09499|\n",
    "|$S_{02}$|-0.00005|$t_{02}$|0.00028|$S_{01}$|0.00184|$t_{01}$|-0.01090|$S_{00}$|-0.09609|$t_{00}$|0.59229|\n"
   ]
  },
  {
   "cell_type": "markdown",
   "metadata": {},
   "source": [
    "For a room air conditioners with variable capacity compressor, the coefficient $p_{i}$ is calculated by the equations below according to the rated cooling capacity $q_{rtd,C}$."
   ]
  },
  {
   "cell_type": "markdown",
   "metadata": {},
   "source": [
    "When $q_{rtd,C} \\leq 2200$  \n",
    "$$\\large\n",
    "p_{i} = p_{i,A}\n",
    "$$\n",
    "\n",
    "When $2200 < q_{rtd,C} \\leq 4000$  \n",
    "$$\\large\n",
    "p_{i} = p_{i,A} \\times \\frac{4000-q_{rtd,C}}{4000-2200} + p_{i,B} \\times \\frac{q_{rtd,C}-2200}{4000-2200}\n",
    "$$\n",
    "\n",
    "When $4000 < q_{rtd,C} < 7100$  \n",
    "$$\\large\n",
    "p_{i} = p_{i,B} \\times \\frac{7100-q_{rtd,C}}{7100-4000} + p_{i,C} \\times \\frac{q_{rtd,C}-4000}{7100-4000}\n",
    "$$\n",
    "\n",
    "When $7100 \\leq q_{rtd,C}$  \n",
    "$$\\large\n",
    "p_{i} = p_{i,C}\n",
    "$$"
   ]
  },
  {
   "cell_type": "markdown",
   "metadata": {},
   "source": [
    "Where  \n",
    "$p_{i,A}$ is the coefficient represented by Table 4 (A). / 表 4(A)により表される係数  \n",
    "$p_{i,B}$ is the coefficient represented by Table 4 (B). / 表 4(B)により表される係数  \n",
    "$p_{i,C}$ is the coefficient represented by Table 4 (C). / 表 4(C)により表される係数  "
   ]
  },
  {
   "cell_type": "markdown",
   "metadata": {},
   "source": [
    "<center>**Table 4 (A). Coefficient $p_{i,A}$**</center>\n",
    "\n",
    "|Coefficient|Value|Coefficient|Value|Coefficient|Value|\n",
    "|-|-|-|-|-|-|\n",
    "|$p_{42}$|-0.000056|$p_{41}$|0.000786|$p_{40}$|0.071625|\n",
    "|$p_{32}$|-0.000145|$p_{31}$|0.003337|$p_{30}$|-0.143643|\n",
    "|$p_{22}$|-0.000240|$p_{21}$|-0.029471|$p_{20}$|1.954343|\n",
    "|$p_{12}$|-0.000035|$p_{11}$|-0.050909|$p_{10}$|1.389751|\n",
    "|$p_{02}$|0.0|$p_{01}$|0.0|$p_{00}$|0.076800|  \n",
    "<br />\n",
    "<center>**Table 4 (B). Coefficient $p_{i,B}$**</center>\n",
    "\n",
    "|Coefficient|Value|Coefficient|Value|Coefficient|Value|\n",
    "|-|-|-|-|-|-|\n",
    "|$p_{42}$|0.000108|$p_{41}$|-0.035658|$p_{40}$|3.063873|\n",
    "|$p_{32}$|-0.000017|$p_{31}$|0.062546|$p_{30}$|-5.471556|\n",
    "|$p_{22}$|-0.000245|$p_{21}$|-0.025126|$p_{20}$|4.057590|\n",
    "|$p_{12}$|0.000323|$p_{11}$|-0.021166|$p_{10}$|0.575459|\n",
    "|$p_{02}$|0.0|$p_{01}$|0.000330|$p_{00}$|0.047500|\n",
    "<br />\n",
    "<center>**Table 4 (C). Coefficient $p_{i,C}$**</center>\n",
    "\n",
    "|Coefficient|Value|Coefficient|Value|Coefficient|Value|\n",
    "|-|-|-|-|-|-|\n",
    "|$p_{42}$|-0.001465|$p_{41}$|-0.030500|$p_{40}$|1.920431|\n",
    "|$p_{32}$|0.002824|$p_{31}$|0.041081|$p_{30}$|-1.835302|\n",
    "|$p_{22}$|-0.001929|$p_{21}$|-0.009738|$p_{20}$|1.582898|\n",
    "|$p_{12}$|0.000616|$p_{11}$|-0.014239|$p_{10}$|0.546204|\n",
    "|$p_{02}$|0.0|$p_{01}$|-0.000110|$p_{00}$|0.023100|\n"
   ]
  },
  {
   "cell_type": "markdown",
   "metadata": {},
   "source": [
    "The correction processing heating load $Q'_{T,H}$ is calculated by the equation below."
   ]
  },
  {
   "cell_type": "markdown",
   "metadata": {},
   "source": [
    "$$\\large\n",
    "Q'_{T,H} = Q_{T,H} \\times \\frac{1}{C_{af,H} \\times C_{df}}\n",
    "$$"
   ]
  },
  {
   "cell_type": "markdown",
   "metadata": {},
   "source": [
    "Where  \n",
    "$Q_{T,H}$ is the hourly processing heating load of heating equipment. / 1時間当たりの暖房設備機器の処理暖房負荷(MJ/h)"
   ]
  },
  {
   "cell_type": "markdown",
   "metadata": {},
   "source": [
    "### 2. Gas Consumption / ガス消費量"
   ]
  },
  {
   "cell_type": "markdown",
   "metadata": {},
   "source": [
    "The hourly gas consumption $E_{G,H}$ is set to 0. "
   ]
  },
  {
   "cell_type": "markdown",
   "metadata": {},
   "source": [
    "### 3. Kerosene Consumption / 灯油消費量"
   ]
  },
  {
   "cell_type": "markdown",
   "metadata": {},
   "source": [
    "The hourly kerosene consumption $E_{K,H}$ is set to 0. "
   ]
  },
  {
   "cell_type": "markdown",
   "metadata": {},
   "source": [
    "### 4. Primary Energy Consumption by Other Fuels / その他の燃料による一次エネルギー消費量"
   ]
  },
  {
   "cell_type": "markdown",
   "metadata": {},
   "source": [
    "The hourly primary energy consumption $E_{M,H}$ by other fuels is set to 0. "
   ]
  },
  {
   "cell_type": "markdown",
   "metadata": {},
   "source": [
    "## Maximum Cooling Power / 最大冷房出力"
   ]
  },
  {
   "cell_type": "markdown",
   "metadata": {},
   "source": [
    "### 1. Calculation of maximum cooling power / 最大冷房出力の計算"
   ]
  },
  {
   "cell_type": "markdown",
   "metadata": {},
   "source": [
    "The hourly maximum cooling power $Q_{max,C}$ is calculated by the equation below."
   ]
  },
  {
   "cell_type": "markdown",
   "metadata": {},
   "source": [
    "$$\\large\n",
    "Q_{max,C} = Qr_{max,C} \\times q_{rtd,C} \\times C_{af,C} \\times C_{hm,C} \\times 3600 \\times 10^{-6}\n",
    "$$"
   ]
  },
  {
   "cell_type": "markdown",
   "metadata": {},
   "source": [
    "Where  \n",
    "$Q_{max,C}$ is the hourly maximum cooling power. / 1時間当たりの最大冷房出力(MJ/h)  \n",
    "$Qr_{max,C}$ is the maximum cooling power ratio. / 最大冷房出力比  \n",
    "$q_{rtd,C}$ is the rated heating capacity. / 定格冷房能力(W)  \n",
    "$C_{af,C}$ is the cooling power correction coefficient for air volume of blowout of indoor unit. / 室内機吹き出し風量に関する冷房出力補正係数  \n",
    "$C_{hm,C}$ is the cooling power correction coefficient for inhalation humidity of indoor unit. / 室内機吸い込み湿度に関する冷房出力補正係数  "
   ]
  },
  {
   "cell_type": "markdown",
   "metadata": {},
   "source": [
    "The maximum cooling power ratio $Qr_{max,C}$ is calculated by the equation below."
   ]
  },
  {
   "cell_type": "markdown",
   "metadata": {},
   "source": [
    "$$\\large\n",
    "Qr_{max,C} = a_2 \\times (\\theta_{ex} - 35)^2 + a_1 \\times (\\theta_{ex} - 35) + a_0\n",
    "$$"
   ]
  },
  {
   "cell_type": "markdown",
   "metadata": {},
   "source": [
    "The coefficient $a_2$, $a_1$ and $a_0$ are calculated by the equations below.  \n",
    "However, when $q_{rtd,C}$ exceeds 5600(W) in the equations (2) and (3), we calculate assuming $q_{rtd,C}$ is equal to 5600 (W)."
   ]
  },
  {
   "cell_type": "markdown",
   "metadata": {},
   "source": [
    "$$\n",
    "\\Biggl(\\begin{matrix}\n",
    "    a_2\\\\\n",
    "    a_1\\\\\n",
    "    a_0\\\\\n",
    "    \\end{matrix}\n",
    "\\Biggr) = \n",
    "\\Biggl(\\begin{matrix}\n",
    "    b_2\\\\ \n",
    "    b_1\\\\ \n",
    "    b_0\\\\ \n",
    "    \\end{matrix}\n",
    "\\Biggr) \\times qr_{max,C} + \n",
    "\\Biggl(\\begin{matrix}\n",
    "    c_2\\\\ \n",
    "    c_1\\\\ \n",
    "    c_0\\\\ \n",
    "    \\end{matrix}\n",
    "\\Biggr)\n",
    "\\tag{1}\n",
    "$$"
   ]
  },
  {
   "cell_type": "markdown",
   "metadata": {},
   "source": [
    "$$\n",
    "\\Biggl(\\begin{matrix}\n",
    "    b_2\\\\ \n",
    "    b_1\\\\ \n",
    "    b_0\\\\ \n",
    "    \\end{matrix}\n",
    "\\Biggr) = \n",
    "\\Biggl(\\begin{matrix}\n",
    "    0.000182\\\\ \n",
    "    0.003527\\\\ \n",
    "    -0.011490\\\\ \n",
    "    \\end{matrix}\n",
    "\\Biggr) \\times q_{rtd,C} \\times 10^{-3}  + \n",
    "\\Biggl(\\begin{matrix}\n",
    "    -0.001480\\\\ \n",
    "    -0.023000\\\\ \n",
    "    1.024328\\\\ \n",
    "    \\end{matrix}\n",
    "\\Biggr)\n",
    "\\tag{2}\n",
    "$$"
   ]
  },
  {
   "cell_type": "markdown",
   "metadata": {},
   "source": [
    "$$\n",
    "\\Biggl(\\begin{matrix}\n",
    "    c_2\\\\ \n",
    "    c_1\\\\ \n",
    "    c_0\\\\ \n",
    "    \\end{matrix}\n",
    "\\Biggr) = \n",
    "\\Biggl(\\begin{matrix}\n",
    "    -0.000350\\\\ \n",
    "    -0.001280\\\\ \n",
    "    0.004772\\\\ \n",
    "    \\end{matrix}\n",
    "\\Biggr) \\times q_{rtd,C} \\times 10^{-3}  + \n",
    "\\Biggl(\\begin{matrix}\n",
    "    0.000800\\\\ \n",
    "    0.003621\\\\ \n",
    "    -0.011170\\\\ \n",
    "    \\end{matrix}\n",
    "\\Biggr)\n",
    "\\tag{3}\n",
    "$$"
   ]
  },
  {
   "cell_type": "markdown",
   "metadata": {},
   "source": [
    "Where  \n",
    "$qr_{max,C}$ is the maximum cooling capacity ratio. / 最大冷房能力比  \n",
    "$q_{rtd,C}$ is the rated cooling capacity. / 定格冷房能力(W)  "
   ]
  },
  {
   "cell_type": "markdown",
   "metadata": {},
   "source": [
    "The rated cooling capacity $q_{rtd,C}$ is in accordance with Appendix A."
   ]
  },
  {
   "cell_type": "markdown",
   "metadata": {},
   "source": [
    "The maximum cooling capacity ratio $qr_{max,C}$ is defined by the equation below and is determined only from the specifications of the device, irrespective of operating conditions such as outside air temperature."
   ]
  },
  {
   "cell_type": "markdown",
   "metadata": {},
   "source": [
    "$$\\large\n",
    "qr_{max,C} = \\frac{q_{max,C}}{q_{rtd,C}}\n",
    "$$"
   ]
  },
  {
   "cell_type": "markdown",
   "metadata": {},
   "source": [
    "Where  \n",
    "$q_{max,C}$ is the maximum cooling capacity. / 最大冷房能力(W)  \n",
    "$q_{rtd,C}$ is the rated cooling capacity. / 定格冷房能力(W)  "
   ]
  },
  {
   "cell_type": "markdown",
   "metadata": {},
   "source": [
    "The maximum cooling capacity $q_{max,C}$ and the rated cooling capacity $q_{rtd,C}$ are calculated from the floor area $A_{HCZ}$ of the heating and cooling section in which the room air conditioner is installed, shall be in accordance with Appendix A.  \n",
    "The capacity correction coefficient $C_{af,C}$ at cooling for air volume of blowout of indoor unit is set to 0.85.  \n",
    "In this calculation method, the relative humidity of the suction air is assumed to be 60%, the cooling capacity correction coefficient $C_{hm,C}$ for inhalation humidity of indoor unit is a coefficient for correcting that the rated capacity differs due to the indoor relative humidity of the rated condition measured by JIS being different and is set to 1.15.  "
   ]
  },
  {
   "cell_type": "markdown",
   "metadata": {},
   "source": [
    "### 2.  Calculation of maximum cooling sensible heat output and maximum cooling latent heat output / 最大冷房顕熱出力及び最大冷房潜熱出力の計算"
   ]
  },
  {
   "cell_type": "markdown",
   "metadata": {},
   "source": [
    "The hourly maximum cooling sensible heat output $Q_{max,CS}$ and the hourly maximum cooling sensible heat output $Q_{max,CL}$ are calculated by the equations below. "
   ]
  },
  {
   "cell_type": "markdown",
   "metadata": {},
   "source": [
    "$$\\large\n",
    "Q_{max,CS} = Q_{max,C} \\times SHF'\n",
    "$$"
   ]
  },
  {
   "cell_type": "markdown",
   "metadata": {},
   "source": [
    "$$\\large\n",
    "Q_{max,CL} = min(Q_{max,C} \\times (1 - SHF'),  L'_{CL})\n",
    "$$"
   ]
  },
  {
   "cell_type": "markdown",
   "metadata": {},
   "source": [
    "Where  \n",
    "$Q_{max,CS}$ is the hourly maximum cooling sensible heat output. / 1時間当たりの最大冷房顕熱出力(MJ/h)  \n",
    "$Q_{max,CL}$ is the hourly maximum cooling latent heat output. / 1時間当たりの最大冷房潜熱出力(MJ/h)  \n",
    "$Q_{max,C}$ is the hourly maximum cooling power. / 1時間当たりの最大冷房出力(MJ/h)  \n",
    "$SHF'$ is the cooling load correction sensible heat ratio. / 冷房負荷補正顕熱比  "
   ]
  },
  {
   "cell_type": "markdown",
   "metadata": {},
   "source": [
    "The cooling load correction sensible heat ratio $SHF'$ is calculated by the equation below."
   ]
  },
  {
   "cell_type": "markdown",
   "metadata": {},
   "source": [
    "$$\\large\n",
    "SHF' = \\left\\{ \\begin{array}{ll}\n",
    "    \\frac{L_{CS}}{L'_{C}} & (L'_{C} \\neq 0)\\\\ \n",
    "    0 & (L'_{C} = 0)\\\\ \n",
    "    \\end{array}\n",
    "\\right.\n",
    "$$"
   ]
  },
  {
   "cell_type": "markdown",
   "metadata": {},
   "source": [
    "Where  \n",
    "$L_{CS}$ is the hourly cooling sensation heat load. / 1時間当たりの冷房顕熱負荷(MJ/h)  \n",
    "$L'_{C}$ is the hourly corrected cooling load. / 1時間当たりの補正冷房負荷(MJ/h)  "
   ]
  },
  {
   "cell_type": "markdown",
   "metadata": {},
   "source": [
    "The hourly corrected cooling load $L'_{C}$ is calculated by the equation below."
   ]
  },
  {
   "cell_type": "markdown",
   "metadata": {},
   "source": [
    "$$\\large\n",
    "L'_{C} = L_{CS} + L'_{CL}\n",
    "$$"
   ]
  },
  {
   "cell_type": "markdown",
   "metadata": {},
   "source": [
    "Where  \n",
    "$L_{CS}$ is the hourly cooling sensation heat load. / 1時間当たりの冷房顕熱負荷(MJ/h)  \n",
    "$L'_{CL}$ is the hourly correction cooling latent heat load. / 1時間当たりの補正冷房潜熱負荷(MJ/h)  "
   ]
  },
  {
   "cell_type": "markdown",
   "metadata": {},
   "source": [
    "The hourly correction cooling latent heat load $L'_{CL}$ is calculated by the equation below."
   ]
  },
  {
   "cell_type": "markdown",
   "metadata": {},
   "source": [
    "$$\\large\n",
    "L'_{CL} = min(L_{max,CL},  L_{CL})\n",
    "$$"
   ]
  },
  {
   "cell_type": "markdown",
   "metadata": {},
   "source": [
    "Where  \n",
    "$L_{max,CL}$ is the hourly maximum cooling latent heat load. / 1時間当たりの最大冷房潜熱負荷(MJ/h)  \n",
    "$L_{CL}$ is the hourly cooling latent heat load. / 1時間当たりの冷房潜熱負荷(MJ/h)  "
   ]
  },
  {
   "cell_type": "markdown",
   "metadata": {},
   "source": [
    "The hourly maximum cooling latent heat load $L_{max,CL}$ is calculated by the equation below."
   ]
  },
  {
   "cell_type": "markdown",
   "metadata": {},
   "source": [
    "$$\\large\n",
    "L_{max,CL} = L_{CS} \\times \\frac{1 - SHF_{L,min,c}}{SHF_{L,min,c}}\n",
    "$$"
   ]
  },
  {
   "cell_type": "markdown",
   "metadata": {},
   "source": [
    "Where  \n",
    "$L_{CS}$ is the hourly cooling sensation heat load. / 1時間当たりの冷房顕熱負荷(MJ/h)  \n",
    "$SHF_{L,min,c}$ is the minimum sensible heat ratio of cooling load. / 冷房負荷最小顕熱比  "
   ]
  },
  {
   "cell_type": "markdown",
   "metadata": {},
   "source": [
    "The minimum sensible heat ratio of cooling load $SHF_{L,min,c}$ is set to 0.4."
   ]
  },
  {
   "cell_type": "markdown",
   "metadata": {},
   "source": [
    "## Cooling Energy Consumption / 冷房エネルギー消費量"
   ]
  },
  {
   "cell_type": "markdown",
   "metadata": {},
   "source": [
    "### 1. Power / 消費電力量"
   ]
  },
  {
   "cell_type": "markdown",
   "metadata": {},
   "source": [
    "The hourly electric power $E_{E,C}$ is calculated by the equation below.  \n",
    "However, when the correction processing cooling load $Q'_{T,c}$ is 0, $E_{E,C}$ = 0."
   ]
  },
  {
   "cell_type": "markdown",
   "metadata": {},
   "source": [
    "$$\\large\n",
    "E_{E,C} = f_{C,\\theta} \\Biggl( \\frac{Q'_{T,c}}{q_{max,C} \\times 3600 \\times 10^{-6}} \\Biggr) \\div \n",
    "f_{C,35} \\Biggl( \\frac{1}{qr_{max,C}} \\Biggr) \\times \\frac{q_{rtd,C}}{e_{rtd,C}} \\times 10^{-3}\n",
    "\\tag{1-1}\n",
    "$$"
   ]
  },
  {
   "cell_type": "markdown",
   "metadata": {},
   "source": [
    "Where  \n",
    "$E_{E,C}$ is the hourly electric power. / 1時間当たりの消費電力量(kWh/h)  \n",
    "$f_{C,\\theta}$ is the reference input / output function. / 基準入出力関数    \n",
    "$Q'_{T,c}$ is the correction processing cooling load. / 補正処理冷房負荷(MJ/h)    \n",
    "$q_{max,C}$ is the maximum cooling capacity. / 最大冷房能力(W)    \n",
    "$q_{rtd,C}$ is the rated cooling capacity. / 定格冷房能力(W)    \n",
    "$e_{rtd,C}$ is the rated cooling energy consumption efficiency. / 定格冷房エネルギー消費効率  "
   ]
  },
  {
   "cell_type": "markdown",
   "metadata": {},
   "source": [
    "The reference i/o function $f_{C,\\theta}$ is calculated by the equation below, depending on the outside air temperature $\\theta_{ex}$ and rated cooling capacity $q_{rtd,C}$."
   ]
  },
  {
   "cell_type": "markdown",
   "metadata": {},
   "source": [
    "$$\\large\n",
    "f_{C,\\theta}(x) = a_{4}x^{4} + a_{3}x^{3} + a_{2}x^{2} + a_{1}x + a_{0}\n",
    "\\tag{1-2}\n",
    "$$"
   ]
  },
  {
   "cell_type": "markdown",
   "metadata": {},
   "source": [
    "The coefficients $a_0$~$a_4$ are calculated by the equation below.  "
   ]
  },
  {
   "cell_type": "markdown",
   "metadata": {},
   "source": [
    "\\begin{equation*}\n",
    "\\left(\\begin{matrix}\n",
    "    a_4\\\\\n",
    "    a_3\\\\\n",
    "    a_2\\\\\n",
    "    a_1\\\\\n",
    "    a_0\\\\\n",
    "    \\end{matrix}\n",
    "\\right) = \n",
    "\\left(\\begin{matrix}\n",
    "    p_{42} & p_{41} & p_{40}\\\\\n",
    "    p_{32} & p_{31} & p_{30}\\\\\n",
    "    p_{22} & p_{21} & p_{20}\\\\\n",
    "    p_{12} & p_{11} & p_{10}\\\\\n",
    "    p_{02} & p_{01} & p_{00}\\\\\n",
    "    \\end{matrix}\n",
    "\\right)\n",
    "\\left(\\begin{matrix}\n",
    "    \\theta_{ex}^2\\\\ \n",
    "    \\theta_{ex}\\\\ \n",
    "    1\\\\ \n",
    "    \\end{matrix}\n",
    "\\right)\n",
    "\\tag{1-3}\n",
    "\\end{equation*}"
   ]
  },
  {
   "cell_type": "markdown",
   "metadata": {},
   "source": [
    "For a room air conditioner that is not with variable capacity compressor, the coefficient $p_{i}$ is calculated by the equation below and the coefficients $s_{i}$ and $t_{i}$ are represented by Table 5.  \n",
    "However, when $q_{rtd,C}$ exceeds 5600(W) in the equation below, we calculate assuming $q_{rtd,C}$ is equal to 5600(W).  "
   ]
  },
  {
   "cell_type": "markdown",
   "metadata": {},
   "source": [
    "\\begin{equation*}\n",
    "\\large\n",
    "p_{i} = s_{i} \\times q_{rtd,C} \\times 10^{-3} + t_{i}\n",
    "\\tag{1-4}\n",
    "\\end{equation*}"
   ]
  },
  {
   "cell_type": "markdown",
   "metadata": {},
   "source": [
    "Where  \n",
    "$q_{rtd,C}$ is the rated cooling capacity. / 定格冷房能力(W)  "
   ]
  },
  {
   "cell_type": "markdown",
   "metadata": {},
   "source": [
    "$i$ represents subscripts 00, 01, 02, 10 ... 42 in the equation (1-3)."
   ]
  },
  {
   "cell_type": "markdown",
   "metadata": {},
   "source": [
    "<center>**Table 5. Coefficient $s_{i}$ and $t_{i}$**</center>\n",
    "\n",
    "|Coefficient|Value|Coefficient|Value|Coefficient|Value|Coefficient|Value|Coefficient|Value|Coefficient|Value|\n",
    "|-|-|-|-|-|-|-|-|-|-|-|-|\n",
    "|$S_{42}$|0.00000|$t_{42}$|0.00000|$S_{41}$|0.00000|$t_{41}$|0.00000|$S_{40}$|0.00000|$t_{40}$|0.00000|\n",
    "|$S_{32}$|0.00000|$t_{32}$|0.00000|$S_{31}$|-0.00036|$t_{31}$|0.05080|$S_{30}$|-0.20346|$t_{30}$|0.47765|\n",
    "|$S_{22}$|0.00000|$t_{22}$|0.00000|$S_{21}$|0.00227|$t_{21}$|-0.03952|$S_{20}$|0.04115|$t_{20}$|0.23099|\n",
    "|$S_{12}$|0.00000|$t_{12}$|0.00000|$S_{11}$|-0.00911|$t_{11}$|0.07102|$S_{10}$|0.14950|$t_{10}$|-1.07335|\n",
    "|$S_{02}$|0.00000|$t_{02}$|0.00000|$S_{01}$|0.00044|$t_{01}$|-0.00214|$S_{00}$|-0.06250|$t_{00}$|0.35150|\n"
   ]
  },
  {
   "cell_type": "markdown",
   "metadata": {},
   "source": [
    "For a room air conditioners with variable capacity compressor, the coefficient $p_{i}$ is calculated by the equations below according to the rated cooling capacity $q_{rtd,C}$."
   ]
  },
  {
   "cell_type": "markdown",
   "metadata": {},
   "source": [
    "When $q_{rtd,C} \\leq 2200$  \n",
    "$$\\large\n",
    "p_{i} = p_{i,A}\n",
    "$$\n",
    "\n",
    "When $2200 < q_{rtd,C} \\leq 4000$  \n",
    "$$\\large\n",
    "p_{i} = p_{i,A} \\times \\frac{4000-q_{rtd,C}}{4000-2200} + p_{i,B} \\times \\frac{q_{rtd,C}-2200}{4000-2200}\n",
    "$$\n",
    "\n",
    "When $4000 < q_{rtd,C} < 7100$  \n",
    "$$\\large\n",
    "p_{i} = p_{i,B} \\times \\frac{7100-q_{rtd,C}}{7100-4000} + p_{i,C} \\times \\frac{q_{rtd,C}-4000}{7100-4000}\n",
    "$$\n",
    "\n",
    "When $7100 \\leq q_{rtd,C}$  \n",
    "$$\\large\n",
    "p_{i} = p_{i,C}\n",
    "$$"
   ]
  },
  {
   "cell_type": "markdown",
   "metadata": {},
   "source": [
    "Where  \n",
    "$p_{i,A}$ is the coefficient represented by Table 6 (A). / 表 6(A)により表される係数  \n",
    "$p_{i,B}$ is the coefficient represented by Table 6 (B). / 表 6(B)により表される係数  \n",
    "$p_{i,C}$ is the coefficient represented by Table 6 (C). / 表 6(C)により表される係数  "
   ]
  },
  {
   "cell_type": "markdown",
   "metadata": {},
   "source": [
    "<center>**Table 6 (A). Coefficient $p_{i,A}$**</center>\n",
    "\n",
    "|Coefficient|Value|Coefficient|Value|Coefficient|Value|\n",
    "|-|-|-|-|-|-|\n",
    "|$p_{42}$|-0.0004078|$p_{41}$|0.01035|$p_{40}$|-0.03248|\n",
    "|$p_{32}$|0.0|$p_{31}$|0.04099|$p_{30}$|-0.81889|\n",
    "|$p_{22}$|0.0|$p_{21}$|-0.04615|$p_{20}$|2.10666|\n",
    "|$p_{12}$|0.0013382|$p_{11}$|-0.01179|$p_{10}$|-0.41778|\n",
    "|$p_{02}$|0.0000000|$p_{01}$|-0.00102|$p_{00}$|0.09270|  \n",
    "<br />\n",
    "<center>**Table 6 (B). Coefficient $p_{i,B}$**</center>\n",
    "\n",
    "|Coefficient|Value|Coefficient|Value|Coefficient|Value|\n",
    "|-|-|-|-|-|-|\n",
    "|$p_{42}$|-0.000056|$p_{41}$|-0.003539|$p_{40}$|-0.430566|\n",
    "|$p_{32}$|0.0|$p_{31}$|0.015237|$p_{30}$|1.188850|\n",
    "|$p_{22}$|0.0|$p_{21}$|0.000527|$p_{20}$|-0.304645|\n",
    "|$p_{12}$|-0.000179|$p_{11}$|0.020543|$p_{10}$|0.130373|\n",
    "|$p_{02}$|0.0|$p_{01}$|0.000240|$p_{00}$|0.013500|\n",
    "<br />\n",
    "<center>**Table 6 (C). Coefficient $p_{i,C}$**</center>\n",
    "\n",
    "|Coefficient|Value|Coefficient|Value|Coefficient|Value|\n",
    "|-|-|-|-|-|-|\n",
    "|$p_{42}$|-0.0001598|$p_{41}$|0.004848|$p_{40}$|0.047097|\n",
    "|$p_{32}$|0.0|$p_{31}$|0.016675|$p_{30}$|0.362141|\n",
    "|$p_{22}$|0.0|$p_{21}$|-0.008134|$p_{20}$|-0.023535|\n",
    "|$p_{12}$|-0.0000772|$p_{11}$|0.012558|$p_{10}$|0.056185|\n",
    "|$p_{02}$|0.0|$p_{01}$|-0.000110|$p_{00}$|0.010300|\n"
   ]
  },
  {
   "cell_type": "markdown",
   "metadata": {},
   "source": [
    "The hourly correction processing heating load $Q'_{T,C}$ is calculated by the equation below."
   ]
  },
  {
   "cell_type": "markdown",
   "metadata": {},
   "source": [
    "$$\\large\n",
    "Q'_{T,C} = (Q_{T,CS} + Q_{T,CL}) \\times \\frac{1}{C_{hm,C} \\times C_{af,C}}\n",
    "$$"
   ]
  },
  {
   "cell_type": "markdown",
   "metadata": {},
   "source": [
    "Where  \n",
    "$Q_{T,CS}$ is the hourly processing cooling sensible heat load of cooling equipment. / 1時間当たりの冷房設備機器の処理冷房顕熱負荷(MJ/h)  \n",
    "$Q_{T,CL}$ is the hourly processing cooling latent heat load of cooling equipment. / 1時間当たりの冷房設備機器の処理冷房潜熱負荷(MJ/h)  \n",
    "$C_{hm,C}$ is the cooling power correction coefficient for inhalation humidity of indoor unit. / 室内機吸い込み湿度に関する冷房出力補正係数  \n",
    "$C_{af,C}$ is the cooling power correction coefficient for air volume of blowout of indoor unit. / 室内機吹き出し風量に関する冷房出力補正係数  "
   ]
  },
  {
   "cell_type": "markdown",
   "metadata": {},
   "source": [
    "The cooling power correction coefficient $C_{af,C}$ for air volume of blowout of indoor unit and the cooling power correction coefficient $C_{hm,C}$ for inhalation humidity of indoor unit are as described in Section 7.1."
   ]
  },
  {
   "cell_type": "markdown",
   "metadata": {},
   "source": [
    "### 2. Gas Consumption / ガス消費量"
   ]
  },
  {
   "cell_type": "markdown",
   "metadata": {},
   "source": [
    "The hourly gas consumption $E_{G,C}$ is set to 0. "
   ]
  },
  {
   "cell_type": "markdown",
   "metadata": {},
   "source": [
    "### 3. Kerosene Consumption / 灯油消費量"
   ]
  },
  {
   "cell_type": "markdown",
   "metadata": {},
   "source": [
    "The hourly kerosene consumption $E_{K,C}$ is set to 0. "
   ]
  },
  {
   "cell_type": "markdown",
   "metadata": {},
   "source": [
    "### 4. Primary Energy Consumption by Other Fuels / その他の燃料による一次エネルギー消費量"
   ]
  },
  {
   "cell_type": "markdown",
   "metadata": {},
   "source": [
    "The hourly primary energy consumption $E_{M,C}$ by other fuels is set to 0. "
   ]
  }
 ],
 "metadata": {
  "kernelspec": {
   "display_name": "Python 3",
   "language": "python",
   "name": "python3"
  },
  "language_info": {
   "codemirror_mode": {
    "name": "ipython",
    "version": 3
   },
   "file_extension": ".py",
   "mimetype": "text/x-python",
   "name": "python",
   "nbconvert_exporter": "python",
   "pygments_lexer": "ipython3",
   "version": "3.6.4"
  }
 },
 "nbformat": 4,
 "nbformat_minor": 2
}
